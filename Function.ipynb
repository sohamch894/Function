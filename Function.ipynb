{
  "nbformat": 4,
  "nbformat_minor": 0,
  "metadata": {
    "colab": {
      "provenance": []
    },
    "kernelspec": {
      "name": "python3",
      "display_name": "Python 3"
    },
    "language_info": {
      "name": "python"
    }
  },
  "cells": [
    {
      "cell_type": "markdown",
      "source": [
        "#Function\n",
        "\n",
        "\n",
        "1.What is the difference between a function and a method in Python?\n",
        "\n",
        "->the difference between functions and methods in Python:\n",
        "\n",
        "* **Functions** are standalone blocks of code defined outside classes.\n",
        "* **Methods** are functions defined within a class, associated with objects.\n",
        "* Functions are called directly by their name.\n",
        "* Methods are called using dot notation on an object (e.g., object.method()).\n",
        "\n",
        "2.Explain the concept of function arguments and parameters in Python.\n",
        "\n",
        "-> **Parameters** are placeholders for values defined in a function's\n",
        "     definition (e.g.,def my_func(param1)).\n",
        "\n",
        "**Arguments** are the actual values passed to the function when it's called (e.g., my_func(arg1)).\n",
        "* Parameters receive the values of the arguments.\n",
        "* Arguments are matched to parameters by position or keyword.\n",
        "\n",
        "3.What are the different ways to define and call a function in Python?\n",
        "\n",
        "->**Define:** def function_name(parameter1, parameter2, ...):\n",
        "* **Call:** function_name(argument1, argument2, ...)\n",
        "* **Keyword Arguments:** function_name(parameter1=value1, parameter2=value2, ...)\n",
        "* **Default Arguments:** def function_name(parameter1=default_value, ...)\n",
        "\n",
        "4.What is the purpose of the `return` statement in a Python function?\n",
        "\n",
        "->**`return`** statement is used to send a value back from a function to the place where it was called.\n",
        "* It can return any data type: numbers, strings, lists, objects, etc.\n",
        "* If no `return` statement is present, the function implicitly returns `None`.\n",
        "* The `return` statement immediately stops the function's execution.\n",
        "\n",
        "5.What are iterators in Python and how do they differ from iterables?\n",
        "\n",
        "->**Iterables** are objects that can be looped over (e.g., lists, tuples, strings).\n",
        "* **Iterators** are objects that produce the next value in a sequence using the `__next__()` method.\n",
        "* All iterators are iterable, but not all iterables are iterators.\n",
        "* `iter()` function converts an iterable into an iterator.\n",
        "\n",
        "6.Explain the concept of generators in Python and how they are defined.\n",
        "\n",
        "->**Generators** are a special type of function that use the `yield` keyword instead of `return`.\n",
        "* They return an iterator object that can be used to generate a sequence of values on-the-fly.\n",
        "* Generators are memory-efficient as they produce values one at a time, unlike lists that store all values in memory.\n",
        "* Defined using the `def` keyword followed by the `yield` keyword within the function body.\n",
        "\n",
        "7.What are the advantages of using generators over regular functions?\n",
        "\n",
        "->**Memory Efficiency:** Generators produce values on-demand, saving memory compared to storing all values in a list.\n",
        "* **Laziness:** Values are generated only when needed, improving performance for large datasets.\n",
        "* **Infinite Sequences:** Generators can represent infinite sequences, which is impossible with regular functions.\n",
        "* **Conciseness:** Often more concise to express algorithms that produce a sequence of values.\n",
        "\n",
        "8.What is a lambda function in Python and when is it typically used?\n",
        "\n",
        "->**Lambda functions** are small, anonymous functions defined using the `lambda` keyword.\n",
        "* They have a concise syntax: `lambda arguments: expression`.\n",
        "* Typically used for short, simple operations like sorting, filtering, and mapping.\n",
        "* Avoid using them for complex logic as they can be less readable.\n",
        "\n",
        "9.Explain the purpose and usage of the `map()` function in Python.\n",
        "\n",
        "->**`map()`** applies a given function to each item in an iterable (like a list).\n",
        "* Returns an iterator containing the results of the function applied to each item.\n",
        "* Often used for transformations, such as squaring numbers or converting strings to uppercase.\n",
        "* More concise than using a loop to apply the function to each element individually.\n",
        "\n",
        "10.What is the difference between `map()`, `reduce()`, and `filter()` functions in Python?\n",
        "\n",
        "->**`map()`** applies a function to each element of an iterable and returns a new iterable with the results.\n",
        "* **`reduce()`** applies a function cumulatively to the items of an iterable, reducing it to a single value.\n",
        "* **`filter()`** creates a new iterable with elements from the original iterable that satisfy a given condition.\n",
        "* All three functions are higher-order functions, meaning they take other functions as arguments.\n",
        "\n",
        "11.Using pen & Paper write the internal mechanism for sum operation using  reduce function on this given\n",
        "list:[47,11,42,13];\n",
        "\n",
        "-> the answer is in below link\n",
        "\n",
        "\n",
        "https://drive.google.com/file/d/1Klp7lgR7wgLIpF32evfqOJRVQY7qRd0F/view?usp=sharing\n",
        "\n",
        "\n",
        "\n",
        "\n",
        "\n",
        "\n",
        "\n"
      ],
      "metadata": {
        "id": "LZyyU3cCAANP"
      }
    },
    {
      "cell_type": "code",
      "execution_count": 1,
      "metadata": {
        "colab": {
          "base_uri": "https://localhost:8080/"
        },
        "id": "-ANXNC5D_x_q",
        "outputId": "f2797e4e-edea-4366-ba70-6301695045a0"
      },
      "outputs": [
        {
          "output_type": "stream",
          "name": "stdout",
          "text": [
            "50\n"
          ]
        }
      ],
      "source": [
        "#Write a Python function that takes a list of numbers as input and returns the sum of all even numbers in the list\n",
        "from functools import reduce\n",
        "o = [1, 2, 3, 4, 11, 11, 22, 22]\n",
        "\n",
        "def b(o):\n",
        "    ab = 0\n",
        "    for i in o:\n",
        "        if i % 2 == 0:  # Check if the number is even\n",
        "            ab += i     # Add it to the sum\n",
        "    return ab\n",
        "\n",
        "print(b(o))"
      ]
    },
    {
      "cell_type": "code",
      "source": [
        "#2.Create a Python function that accepts a string and returns the reverse of that string.\n",
        "a = \"ab\"\n",
        "\n",
        "def c(a):\n",
        "    b = ''\n",
        "    # Iterate over the characters of the reversed string\n",
        "    for i in a[::-1]:\n",
        "        b += i\n",
        "    print(b)\n",
        "\n",
        "c(a)"
      ],
      "metadata": {
        "colab": {
          "base_uri": "https://localhost:8080/"
        },
        "id": "9FbVmqd7M1YR",
        "outputId": "dc1a8818-e786-41a3-cc03-5259327a3e58"
      },
      "execution_count": 2,
      "outputs": [
        {
          "output_type": "stream",
          "name": "stdout",
          "text": [
            "ba\n"
          ]
        }
      ]
    },
    {
      "cell_type": "code",
      "source": [
        "#3.Implement a Python function that takes a list of integers and returns a new list containing the squares of each number.\n",
        "a = [1, 2, 3, 4]\n",
        "b = lambda c: c**2\n",
        "result = map(b, a)\n",
        "print(list(result))\n",
        "print(\"ok\")"
      ],
      "metadata": {
        "colab": {
          "base_uri": "https://localhost:8080/"
        },
        "id": "-oXjATYiM6es",
        "outputId": "8add72d7-fd61-4b37-f746-0a110607f036"
      },
      "execution_count": 3,
      "outputs": [
        {
          "output_type": "stream",
          "name": "stdout",
          "text": [
            "[1, 4, 9, 16]\n",
            "ok\n"
          ]
        }
      ]
    },
    {
      "cell_type": "code",
      "source": [
        "#4.Write a Python function that checks if a given number is prime or not from 1 to 200.\n",
        "a = range(1, 201)\n",
        "b = filter(lambda c: all(c % i != 0 for i in range(2, int(c**0.5) + 1)), a)\n",
        "print(list(b))\n",
        "print(\"ok\")"
      ],
      "metadata": {
        "colab": {
          "base_uri": "https://localhost:8080/"
        },
        "id": "sipsHKZbNBYD",
        "outputId": "6bf25c9c-d28d-40d2-a703-ccd6d4b954b6"
      },
      "execution_count": 4,
      "outputs": [
        {
          "output_type": "stream",
          "name": "stdout",
          "text": [
            "[1, 2, 3, 5, 7, 11, 13, 17, 19, 23, 29, 31, 37, 41, 43, 47, 53, 59, 61, 67, 71, 73, 79, 83, 89, 97, 101, 103, 107, 109, 113, 127, 131, 137, 139, 149, 151, 157, 163, 167, 173, 179, 181, 191, 193, 197, 199]\n",
            "ok\n"
          ]
        }
      ]
    },
    {
      "cell_type": "code",
      "source": [
        "#5.Create an iterator class in Python that generates the Fibonacci sequence up to a specified number of terms.\n",
        "class FibonacciIterator:\n",
        "    def __init__(self, n):\n",
        "        self.n = n\n",
        "        self.a, self.b = 0, 1\n",
        "\n",
        "    def __iter__(self):\n",
        "        return self\n",
        "\n",
        "    def __next__(self):\n",
        "        if self.n <= 0:\n",
        "            raise StopIteration\n",
        "        current = self.a\n",
        "        self.a, self.b = self.b, self.a + self.b\n",
        "        self.n -= 1\n",
        "        return current\n",
        "\n",
        "fibonacci_sequence = FibonacciIterator(10)\n",
        "for num in fibonacci_sequence:\n",
        "    print(num)"
      ],
      "metadata": {
        "colab": {
          "base_uri": "https://localhost:8080/"
        },
        "id": "olojZwogNCO3",
        "outputId": "5e5bfae4-994d-4187-9a3c-955aa618b32c"
      },
      "execution_count": 5,
      "outputs": [
        {
          "output_type": "stream",
          "name": "stdout",
          "text": [
            "0\n",
            "1\n",
            "1\n",
            "2\n",
            "3\n",
            "5\n",
            "8\n",
            "13\n",
            "21\n",
            "34\n"
          ]
        }
      ]
    },
    {
      "cell_type": "code",
      "source": [
        "#6.Write a generator function in Python that yields the powers of 2 up to a given exponent.\n",
        "def powers_of_2_yield(n):\n",
        "    for i in range(n + 1):\n",
        "        yield 2 ** i\n",
        "\n",
        "for power in powers_of_2_yield(5):\n",
        "    print(power)\n"
      ],
      "metadata": {
        "colab": {
          "base_uri": "https://localhost:8080/"
        },
        "id": "Sxsbat8rNKL_",
        "outputId": "4e12287e-6f22-481a-cdf8-2065a0ddebe8"
      },
      "execution_count": 6,
      "outputs": [
        {
          "output_type": "stream",
          "name": "stdout",
          "text": [
            "1\n",
            "2\n",
            "4\n",
            "8\n",
            "16\n",
            "32\n"
          ]
        }
      ]
    },
    {
      "cell_type": "code",
      "source": [
        "#7.Implement a generator function that reads a file line by line and yields each line as a string.\n",
        "file_content = [\n",
        "    \"Hello, this is the first line.\",\n",
        "    \"This is the second line.\",\n",
        "    \"And this is the third line.\",\n",
        "    \"This is the fourth line.\",\n",
        "]\n",
        "\n",
        "\n",
        "def read_file_line_by_line(content):\n",
        "    for line in content:\n",
        "        yield line.strip()\n",
        "\n",
        "\n",
        "for line in read_file_line_by_line(file_content):\n",
        "    print(line)\n"
      ],
      "metadata": {
        "colab": {
          "base_uri": "https://localhost:8080/"
        },
        "id": "RuepdpVpNNTV",
        "outputId": "0bbaec1d-ce1f-40a3-9612-1eb752f19c5a"
      },
      "execution_count": 7,
      "outputs": [
        {
          "output_type": "stream",
          "name": "stdout",
          "text": [
            "Hello, this is the first line.\n",
            "This is the second line.\n",
            "And this is the third line.\n",
            "This is the fourth line.\n"
          ]
        }
      ]
    },
    {
      "cell_type": "code",
      "source": [
        "#8.Use a lambda function in Python to sort a list of tuples based on the second element of each tuple.\n",
        "tuples_list = [(1, 3), (2, 1), (3, 2), (4, 4)]\n",
        "sorted_list = sorted(tuples_list, key=lambda x: x[1])\n",
        "print(sorted_list)"
      ],
      "metadata": {
        "colab": {
          "base_uri": "https://localhost:8080/"
        },
        "id": "f1aiou3eNRAr",
        "outputId": "62fc82b6-6ec5-4adf-fc9f-f0576b5ab33b"
      },
      "execution_count": 8,
      "outputs": [
        {
          "output_type": "stream",
          "name": "stdout",
          "text": [
            "[(2, 1), (3, 2), (1, 3), (4, 4)]\n"
          ]
        }
      ]
    },
    {
      "cell_type": "code",
      "source": [
        "#9.Write a Python program that uses `map()` to convert a list of temperatures from Celsius to Fahrenheit.\n",
        "celsius_temperatures = [20,40,22,25]\n",
        "def celsius_to_fahrenheit(celsius):\n",
        "    return (celsius * 9/5) + 32\n",
        "fahrenheit_temperatures = list(map(celsius_to_fahrenheit, celsius_temperatures))\n",
        "\n",
        "print(fahrenheit_temperatures)\n"
      ],
      "metadata": {
        "colab": {
          "base_uri": "https://localhost:8080/"
        },
        "id": "6Lkk4RmdNWMV",
        "outputId": "8f2d857e-9d21-45f1-cbe5-f91f045627ab"
      },
      "execution_count": 9,
      "outputs": [
        {
          "output_type": "stream",
          "name": "stdout",
          "text": [
            "[68.0, 104.0, 71.6, 77.0]\n"
          ]
        }
      ]
    },
    {
      "cell_type": "code",
      "source": [
        "#10.Create a Python program that uses `filter()` to remove all the vowels from a given string.\n",
        "def is_not_vowel(char):\n",
        "    return char.lower() not in 'aeiou'\n",
        "input_string = \"Hello, World!\"\n",
        "filtered_string = ''.join(filter(is_not_vowel, input_string))\n",
        "\n",
        "print(filtered_string)\n"
      ],
      "metadata": {
        "colab": {
          "base_uri": "https://localhost:8080/"
        },
        "id": "ofJXeW3bNXem",
        "outputId": "a2912b66-171b-44fd-9bc9-2e3d05c45d0b"
      },
      "execution_count": 10,
      "outputs": [
        {
          "output_type": "stream",
          "name": "stdout",
          "text": [
            "Hll, Wrld!\n"
          ]
        }
      ]
    },
    {
      "cell_type": "code",
      "source": [
        "\"\"\"11.Imagine an accounting routine used in a book shop. It works on a list with sublists, which look like this:\n",
        "Write a Python program, which returns a list with 2-tuples. Each tuple consists of the order number and the\n",
        "product of the price per item and the quantity. The product should be increased by 10,- € if the value of the\n",
        "order is smaller than 100,00 €.\n",
        "Write a Python program using lambda and map.\"\"\"\n",
        "orders = [\n",
        "    [101, 4,40.00],\n",
        "    [202, 5, 56.80],\n",
        "    [302, 3, 32.95],\n",
        "    [402, 3, 24.99],\n",
        "]\n",
        "def calculate_order(order):\n",
        "    order_number, price_per_item, quantity = order\n",
        "    total_price = price_per_item * quantity\n",
        "    if total_price < 100:\n",
        "        total_price += 10\n",
        "    return (order_number, total_price)\n",
        "result = list(map(lambda order: calculate_order(order), orders))\n",
        "\n",
        "print(result)"
      ],
      "metadata": {
        "colab": {
          "base_uri": "https://localhost:8080/"
        },
        "id": "bAmyr1BhNaQF",
        "outputId": "0727b6eb-deb1-40ce-dfbc-7390fc4c57ec"
      },
      "execution_count": 11,
      "outputs": [
        {
          "output_type": "stream",
          "name": "stdout",
          "text": [
            "[(101, 160.0), (202, 284.0), (302, 108.85000000000001), (402, 84.97)]\n"
          ]
        }
      ]
    },
    {
      "cell_type": "code",
      "source": [],
      "metadata": {
        "id": "ZRBPPf-TNpzK"
      },
      "execution_count": null,
      "outputs": []
    }
  ]
}